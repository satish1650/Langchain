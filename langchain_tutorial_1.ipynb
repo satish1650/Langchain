{
 "cells": [
  {
   "cell_type": "markdown",
   "id": "38f57468",
   "metadata": {},
   "source": [
    "### Langchain Tutorial"
   ]
  },
  {
   "cell_type": "code",
   "execution_count": 1,
   "id": "57c6bc97",
   "metadata": {},
   "outputs": [
    {
     "data": {
      "text/plain": [
       "True"
      ]
     },
     "execution_count": 1,
     "metadata": {},
     "output_type": "execute_result"
    }
   ],
   "source": [
    "import os\n",
    "\n",
    "from dotenv import load_dotenv\n",
    "\n",
    "load_dotenv()"
   ]
  },
  {
   "cell_type": "code",
   "execution_count": 2,
   "id": "9d6ec212",
   "metadata": {},
   "outputs": [],
   "source": [
    "os.environ[\"LANGSMITH_API_KEY\"] = os.getenv(\"LANGSMITH_API_KEY\")\n",
    "os.environ[\"HF_TOKEN\"] = os.getenv(\"HF_TOKEN\")\n",
    "os.environ[\"GOOGLE_API_KEY\"] = os.getenv(\"GOOGLE_API_KEY\")\n",
    "os.environ[\"LANGSMITH_TRACING\"]=\"true\""
   ]
  },
  {
   "cell_type": "code",
   "execution_count": 3,
   "id": "13be2c24",
   "metadata": {},
   "outputs": [],
   "source": [
    "from langchain_huggingface import ChatHuggingFace, HuggingFaceEndpoint"
   ]
  },
  {
   "cell_type": "code",
   "execution_count": 13,
   "id": "d39266b0",
   "metadata": {},
   "outputs": [
    {
     "data": {
      "text/plain": [
       "HuggingFaceEndpoint(repo_id='microsoft/Phi-3-mini-4k-instruct', stop_sequences=[], server_kwargs={}, model_kwargs={}, model='microsoft/Phi-3-mini-4k-instruct', client=<InferenceClient(model='microsoft/Phi-3-mini-4k-instruct', timeout=120)>, async_client=<InferenceClient(model='microsoft/Phi-3-mini-4k-instruct', timeout=120)>, task='text-generation')"
      ]
     },
     "execution_count": 13,
     "metadata": {},
     "output_type": "execute_result"
    }
   ],
   "source": [
    "llm= HuggingFaceEndpoint(repo_id=\"microsoft/Phi-3-mini-4k-instruct\", task=\"text-generation\")\n",
    "llm "
   ]
  },
  {
   "cell_type": "code",
   "execution_count": 5,
   "id": "f8d5a56f",
   "metadata": {},
   "outputs": [
    {
     "data": {
      "text/plain": [
       "ChatHuggingFace(llm=HuggingFaceEndpoint(repo_id='microsoft/Phi-3-mini-4k-instruct', stop_sequences=[], server_kwargs={}, model_kwargs={}, model='microsoft/Phi-3-mini-4k-instruct', client=<InferenceClient(model='microsoft/Phi-3-mini-4k-instruct', timeout=120)>, async_client=<InferenceClient(model='microsoft/Phi-3-mini-4k-instruct', timeout=120)>, task='text-generation'), model_id='microsoft/Phi-3-mini-4k-instruct', model_kwargs={})"
      ]
     },
     "execution_count": 5,
     "metadata": {},
     "output_type": "execute_result"
    }
   ],
   "source": [
    "model= ChatHuggingFace(llm=llm)\n",
    "model"
   ]
  },
  {
   "cell_type": "code",
   "execution_count": 6,
   "id": "7d6eb89f",
   "metadata": {},
   "outputs": [
    {
     "data": {
      "text/plain": [
       "'The capital of the United States is Washington, D.C. It was established during the presidency of George Washington and officially named the capital in 1790 when it became the temporary capital of the federal government. Washington, D.C., stands for the District of Columbia and is located on the east coast of the country, along the Potomac River. The city is not part of any state and is governed by a three-part federal district government. It is home to the White House, the Capitol Building where the United States Congress convenes, the Supreme Court building, and numerous other federal agencies.'"
      ]
     },
     "execution_count": 6,
     "metadata": {},
     "output_type": "execute_result"
    }
   ],
   "source": [
    "response= model.invoke(\"what is capital of USA?\")\n",
    "response.content"
   ]
  },
  {
   "cell_type": "code",
   "execution_count": 7,
   "id": "6bfd08e5",
   "metadata": {},
   "outputs": [],
   "source": [
    "from langchain_groq import ChatGroq "
   ]
  },
  {
   "cell_type": "code",
   "execution_count": null,
   "id": "e14dee6a",
   "metadata": {},
   "outputs": [
    {
     "data": {
      "text/plain": [
       "ChatGroq(client=<groq.resources.chat.completions.Completions object at 0x00000153FEBC1F40>, async_client=<groq.resources.chat.completions.AsyncCompletions object at 0x00000153FDA179B0>, model_name='deepseek-r1-distill-llama-70b', model_kwargs={}, groq_api_key=SecretStr('**********'))"
      ]
     },
     "execution_count": 8,
     "metadata": {},
     "output_type": "execute_result"
    }
   ],
   "source": [
    "groq_model= ChatGroq(model=\"deepseek-r1-distill-llama-70b\")\n",
    "groq_model"
   ]
  },
  {
   "cell_type": "code",
   "execution_count": 9,
   "id": "3641ade8",
   "metadata": {},
   "outputs": [
    {
     "data": {
      "text/plain": [
       "'<think>\\n\\n</think>\\n\\nThe capital of the United States of America (USA) is **Washington, D.C.** (short for Washington District of Columbia).'"
      ]
     },
     "execution_count": 9,
     "metadata": {},
     "output_type": "execute_result"
    }
   ],
   "source": [
    "response= groq_model.invoke(\"what is capital of USA?\")\n",
    "response.content"
   ]
  },
  {
   "cell_type": "code",
   "execution_count": 35,
   "id": "b4090784",
   "metadata": {},
   "outputs": [],
   "source": [
    "from langchain.chat_models import init_chat_model"
   ]
  },
  {
   "cell_type": "code",
   "execution_count": 43,
   "id": "31760e60",
   "metadata": {},
   "outputs": [],
   "source": [
    "groq_init_chat_model = init_chat_model(\"deepseek-r1-distill-llama-70b\", model_provider=\"groq\")"
   ]
  },
  {
   "cell_type": "code",
   "execution_count": 47,
   "id": "a2bf919f",
   "metadata": {},
   "outputs": [
    {
     "name": "stdout",
     "output_type": "stream",
     "text": [
      "<think>\n",
      "\n",
      "</think>\n",
      "\n",
      "The capital of the United States of America (USA) is **Washington, D.C.** (short for District of Columbia).\n"
     ]
    }
   ],
   "source": [
    "response= groq_init_chat_model.invoke(\"what is capital of USA?\")\n",
    "print(response.content)"
   ]
  },
  {
   "cell_type": "code",
   "execution_count": 10,
   "id": "8a7a0fae",
   "metadata": {},
   "outputs": [],
   "source": [
    "from langchain_google_genai import ChatGoogleGenerativeAI"
   ]
  },
  {
   "cell_type": "code",
   "execution_count": 11,
   "id": "7969e31a",
   "metadata": {},
   "outputs": [
    {
     "data": {
      "text/plain": [
       "ChatGoogleGenerativeAI(model='models/gemini-2.0-flash-001', google_api_key=SecretStr('**********'), client=<google.ai.generativelanguage_v1beta.services.generative_service.client.GenerativeServiceClient object at 0x00000153FEC24EC0>, default_metadata=(), model_kwargs={})"
      ]
     },
     "execution_count": 11,
     "metadata": {},
     "output_type": "execute_result"
    }
   ],
   "source": [
    "gemini_model= ChatGoogleGenerativeAI(model='gemini-2.0-flash-001')\n",
    "gemini_model"
   ]
  },
  {
   "cell_type": "code",
   "execution_count": 12,
   "id": "31b65db5",
   "metadata": {},
   "outputs": [
    {
     "data": {
      "text/plain": [
       "'The capital of the United States of America is **Washington, D.C.**'"
      ]
     },
     "execution_count": 12,
     "metadata": {},
     "output_type": "execute_result"
    }
   ],
   "source": [
    "response= gemini_model.invoke(\"what is capital of USA?\")\n",
    "response.content"
   ]
  }
 ],
 "metadata": {
  "kernelspec": {
   "display_name": "Python 3",
   "language": "python",
   "name": "python3"
  },
  "language_info": {
   "codemirror_mode": {
    "name": "ipython",
    "version": 3
   },
   "file_extension": ".py",
   "mimetype": "text/x-python",
   "name": "python",
   "nbconvert_exporter": "python",
   "pygments_lexer": "ipython3",
   "version": "3.12.11"
  }
 },
 "nbformat": 4,
 "nbformat_minor": 5
}
